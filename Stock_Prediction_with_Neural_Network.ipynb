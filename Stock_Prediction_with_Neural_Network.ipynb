{
  "nbformat": 4,
  "nbformat_minor": 0,
  "metadata": {
    "colab": {
      "provenance": [],
      "mount_file_id": "1wkBQVWPr1-rBNG01bqFC1fVxgg5iZrJ3",
      "authorship_tag": "ABX9TyNX5yv05LAFJhCIxVta5D7i",
      "include_colab_link": true
    },
    "kernelspec": {
      "display_name": "Python 3",
      "name": "python3"
    },
    "accelerator": "GPU"
  },
  "cells": [
    {
      "cell_type": "markdown",
      "metadata": {
        "id": "view-in-github",
        "colab_type": "text"
      },
      "source": [
        "<a href=\"https://colab.research.google.com/github/Duirta/Stock-Portfolio-Allocator/blob/main/Stock_Prediction_with_Neural_Network.ipynb\" target=\"_parent\"><img src=\"https://colab.research.google.com/assets/colab-badge.svg\" alt=\"Open In Colab\"/></a>"
      ]
    },
    {
      "cell_type": "code",
      "metadata": {
        "id": "YR18izEzPEc6",
        "colab": {
          "base_uri": "https://localhost:8080/"
        },
        "outputId": "ed1c9e23-9488-4e3d-b689-988945fd81bb"
      },
      "source": [
        "pip install yfinance"
      ],
      "execution_count": null,
      "outputs": [
        {
          "output_type": "stream",
          "text": [
            "Collecting yfinance\n",
            "  Downloading https://files.pythonhosted.org/packages/7a/e8/b9d7104d3a4bf39924799067592d9e59119fcfc900a425a12e80a3123ec8/yfinance-0.1.55.tar.gz\n",
            "Requirement already satisfied: pandas>=0.24 in /usr/local/lib/python3.7/dist-packages (from yfinance) (1.1.5)\n",
            "Requirement already satisfied: numpy>=1.15 in /usr/local/lib/python3.7/dist-packages (from yfinance) (1.19.5)\n",
            "Requirement already satisfied: requests>=2.20 in /usr/local/lib/python3.7/dist-packages (from yfinance) (2.23.0)\n",
            "Requirement already satisfied: multitasking>=0.0.7 in /usr/local/lib/python3.7/dist-packages (from yfinance) (0.0.9)\n",
            "Collecting lxml>=4.5.1\n",
            "\u001b[?25l  Downloading https://files.pythonhosted.org/packages/d2/88/b25778f17e5320c1c58f8c5060fb5b037288e162bd7554c30799e9ea90db/lxml-4.6.2-cp37-cp37m-manylinux1_x86_64.whl (5.5MB)\n",
            "\u001b[K     |████████████████████████████████| 5.5MB 6.6MB/s \n",
            "\u001b[?25hRequirement already satisfied: pytz>=2017.2 in /usr/local/lib/python3.7/dist-packages (from pandas>=0.24->yfinance) (2018.9)\n",
            "Requirement already satisfied: python-dateutil>=2.7.3 in /usr/local/lib/python3.7/dist-packages (from pandas>=0.24->yfinance) (2.8.1)\n",
            "Requirement already satisfied: certifi>=2017.4.17 in /usr/local/lib/python3.7/dist-packages (from requests>=2.20->yfinance) (2020.12.5)\n",
            "Requirement already satisfied: urllib3!=1.25.0,!=1.25.1,<1.26,>=1.21.1 in /usr/local/lib/python3.7/dist-packages (from requests>=2.20->yfinance) (1.24.3)\n",
            "Requirement already satisfied: chardet<4,>=3.0.2 in /usr/local/lib/python3.7/dist-packages (from requests>=2.20->yfinance) (3.0.4)\n",
            "Requirement already satisfied: idna<3,>=2.5 in /usr/local/lib/python3.7/dist-packages (from requests>=2.20->yfinance) (2.10)\n",
            "Requirement already satisfied: six>=1.5 in /usr/local/lib/python3.7/dist-packages (from python-dateutil>=2.7.3->pandas>=0.24->yfinance) (1.15.0)\n",
            "Building wheels for collected packages: yfinance\n",
            "  Building wheel for yfinance (setup.py) ... \u001b[?25l\u001b[?25hdone\n",
            "  Created wheel for yfinance: filename=yfinance-0.1.55-py2.py3-none-any.whl size=22616 sha256=856d053727b463de51a651cd47e0167ea1157165ba063706e9501be05ae301ce\n",
            "  Stored in directory: /root/.cache/pip/wheels/04/98/cc/2702a4242d60bdc14f48b4557c427ded1fe92aedf257d4565c\n",
            "Successfully built yfinance\n",
            "Installing collected packages: lxml, yfinance\n",
            "  Found existing installation: lxml 4.2.6\n",
            "    Uninstalling lxml-4.2.6:\n",
            "      Successfully uninstalled lxml-4.2.6\n",
            "Successfully installed lxml-4.6.2 yfinance-0.1.55\n"
          ],
          "name": "stdout"
        }
      ]
    },
    {
      "cell_type": "code",
      "metadata": {
        "id": "uAwm3E3_PVPS"
      },
      "source": [
        "%tensorflow_version 2.x\n",
        "\n",
        "import keras\n",
        "import tensorflow as tf\n",
        "import numpy as np\n",
        "import matplotlib.pyplot as plt\n",
        "import pandas as pd\n",
        "import yfinance as yf\n",
        "import datetime\n",
        "from scipy.stats import levy_stable\n",
        "import os\n",
        "\n",
        "from keras.models import Sequential\n",
        "from keras.layers import Dense, Flatten, Dropout, LSTM\n",
        "from keras.layers.convolutional import Conv1D, MaxPooling1D"
      ],
      "execution_count": null,
      "outputs": []
    },
    {
      "cell_type": "code",
      "metadata": {
        "id": "sYVyvTQKQBfk"
      },
      "source": [
        "companies = open('sp_500_stocks.csv','r')\n",
        "companies = companies.readlines()\n",
        "companies = [line.replace('\\n','') for line in companies[1:]]"
      ],
      "execution_count": null,
      "outputs": []
    },
    {
      "cell_type": "code",
      "metadata": {
        "id": "ppqQj4cdQB6d"
      },
      "source": [
        "def get_stock(company_name, start_date, end_date):\n",
        "  ''' Returns the stock price and the daily changes in the logarithm of the price for a given company '''\n",
        "  company = yf.download(company_name,start_date,end_date)\n",
        "  company_price = np.array(company['Adj Close'])\n",
        "  y = np.log(company_price)\n",
        "  r = np.array([y[n]-y[n-1] for n in range(1,len(y)) if str(y[n]-y[n-1]) != 'nan'])\n",
        "  return company_price, r\n",
        "\n",
        "def get_date(start_date,end_date):\n",
        "  ''' Returns array of the days where the stock market was open for a given time period '''\n",
        "  company = yf.download('AAPL',start_date,end_date)\n",
        "  datas = np.array(company.index)\n",
        "  return datas"
      ],
      "execution_count": null,
      "outputs": []
    },
    {
      "cell_type": "code",
      "metadata": {
        "id": "AlmTTN6PQFJy",
        "colab": {
          "base_uri": "https://localhost:8080/",
          "height": 69
        },
        "outputId": "c2e0fe2d-aab8-4911-cdbb-c910d6fa2fb4"
      },
      "source": [
        "r = dict()\n",
        "'''\n",
        "stock_price = dict()\n",
        "datas = get_date('2015-01-01','2019-01-01')\n",
        "for company in companies:\n",
        "  stock_company, r_company = get_stock(company,'2015-01-01','2019-01-01')\n",
        "  if len(r_company) == len(datas)-1:\n",
        "    r[company] = r_company\n",
        "  if len(stock_company) == len(datas):\n",
        "    stock_price[company] = stock_company\n",
        "'''\n"
      ],
      "execution_count": null,
      "outputs": [
        {
          "output_type": "execute_result",
          "data": {
            "application/vnd.google.colaboratory.intrinsic+json": {
              "type": "string"
            },
            "text/plain": [
              "\"\\nstock_price = dict()\\ndatas = get_date('2015-01-01','2019-01-01')\\nfor company in companies:\\n  stock_company, r_company = get_stock(company,'2015-01-01','2019-01-01')\\n  if len(r_company) == len(datas)-1:\\n    r[company] = r_company\\n  if len(stock_company) == len(datas):\\n    stock_price[company] = stock_company\\n\""
            ]
          },
          "metadata": {
            "tags": []
          },
          "execution_count": 5
        }
      ]
    },
    {
      "cell_type": "code",
      "metadata": {
        "colab": {
          "base_uri": "https://localhost:8080/"
        },
        "id": "4UepZGC3V9wO",
        "outputId": "13fdbd20-b15e-4537-c72e-06f2059a939f"
      },
      "source": [
        "np.random.seed(1)\n",
        "\n",
        "def train_test_split(dicto, train_ratio = 0.5):\n",
        "  ''' Splits the set of companies and their daily changes into training and testing data '''\n",
        "  train_keys = np.random.choice(list(dicto.keys()), size = round(train_ratio*len(dicto.keys())))\n",
        "  test_keys = [key for key in dicto.keys() if key not in train_keys]\n",
        "\n",
        "  train_data = np.array([list(dicto[key]) for key in train_keys])\n",
        "  test_data = np.array([list(dicto[key]) for key in test_keys])\n",
        "  return train_data, test_data, train_keys, test_keys\n",
        "\n",
        "def partition_data(x, length = 10):\n",
        "  ''' Partitions the data into chunks '''\n",
        "  n_stocks, timelength = x.shape\n",
        "  length_per_stock = timelength-length\n",
        "  partitions = []\n",
        "  for i in range(n_stocks):\n",
        "    for j in range(length_per_stock):\n",
        "      partitions.append(x[i,j:j+length])\n",
        "  return np.array(partitions)\n",
        "\n",
        "def normalize_part(partitions, minimum = None, maximum = None):\n",
        "  ''' Normalizes the data '''\n",
        "  normalized = []\n",
        "  if minimum == None or maximum == None:\n",
        "    minimum = np.min(partitions)\n",
        "    maximum = np.max(partitions)\n",
        "  for partition in partitions:\n",
        "    normalized.append((partition-minimum)/(maximum-minimum))\n",
        "  return np.array(normalized)\n",
        "\n",
        "def in_and_out(partitions):\n",
        "  ''' Splits the partitions into input and output data '''\n",
        "  x, y = [], []\n",
        "  for partition in partitions:\n",
        "    x.append(np.array([partition[:-1]]))\n",
        "    y.append(np.array([partition[-1]]))\n",
        "  return np.array(x), np.array(y)\n",
        "\n",
        "def train_test(dicto, train_ratio = 0.5, input_length = 10):\n",
        "  ''' Splits a dictionary of arrays into training and testing data '''\n",
        "  train_data, test_data, train_keys, test_keys = train_test_split(dicto, train_ratio)\n",
        "\n",
        "  flat_train_data = train_data.flatten()\n",
        "  flat_train_data.sort()\n",
        "  minimum = flat_train_data[round(0.01*len(flat_train_data))]\n",
        "  maximum = flat_train_data[round(0.99*len(flat_train_data))]\n",
        "\n",
        "  train_partitions = partition_data(train_data, input_length + 1)\n",
        "  test_partitions = partition_data(test_data, input_length + 1)\n",
        "\n",
        "  train_partitions = normalize_part(train_partitions, minimum, maximum)\n",
        "  test_partitions = normalize_part(test_partitions, minimum, maximum)\n",
        "\n",
        "  x_train, y_train = in_and_out(train_partitions)\n",
        "  x_test, y_test = in_and_out(test_partitions)\n",
        "\n",
        "  return x_train, y_train, x_test, y_test, train_keys, test_keys, flat_train_data, minimum, maximum\n",
        "\n",
        "train_data, test_data, train_keys, test_keys = train_test_split(r, 0.7)\n",
        "\n",
        "find_fit = False\n",
        "if find_fit:\n",
        "  fitting_data = train_data.flatten()\n",
        "  fitting_data.sort()\n",
        "  fitting_data = [fitting_data[i] for i in range(0,len(fitting_data),4000)]\n",
        "  alpha, beta, mu, c = levy_stable.fit(fitting_data)\n",
        "else:\n",
        "  alpha = 1.5455908322164555\n",
        "  beta = -0.2393705235288907\n",
        "  mu = -0.0004973090984573017\n",
        "  c = 0.008261207967671467\n",
        "\n",
        "print('alpha:', alpha)\n",
        "print('beta:', beta)\n",
        "print('mu', mu)\n",
        "print('c:', c)\n",
        "\n",
        "#x_train, y_train, x_val, y_val, train_keys, test_keys, flat_train_data, minimum, maximum = train_test(r, 0.7, 10)\n",
        "#print(f'Number of training examples: {len(x_train)}')"
      ],
      "execution_count": null,
      "outputs": [
        {
          "output_type": "stream",
          "text": [
            "alpha: 1.5455908322164555\n",
            "beta: -0.2393705235288907\n",
            "mu -0.0004973090984573017\n",
            "c: 0.008261207967671467\n"
          ],
          "name": "stdout"
        }
      ]
    },
    {
      "cell_type": "code",
      "metadata": {
        "id": "4TIqiL8MfuP2"
      },
      "source": [
        "if 'normalized_training_data.csv' in os.listdir():\n",
        "  norm_train_data = np.loadtxt('normalized_training_data.csv',delimiter=';')\n",
        "  norm_test_data = np.loadtxt('normalized_testing_data.csv',delimiter=';')\n",
        "else:\n",
        "  norm_train_data = levy_stable.cdf(train_data, alpha, beta, mu, c)\n",
        "  norm_test_data = levy_stable.cdf(test_data, alpha, beta, mu, c)\n",
        "\n",
        "  np.savetxt('normalized_training_data.csv',norm_train_data,delimiter=';')\n",
        "  np.savetxt('normalized_testing_data.csv',norm_test_data,delimiter=';')"
      ],
      "execution_count": null,
      "outputs": []
    },
    {
      "cell_type": "code",
      "metadata": {
        "colab": {
          "base_uri": "https://localhost:8080/"
        },
        "id": "yJrRdi7x7Gro",
        "outputId": "da01c248-8db0-466e-a943-2c115d496a9e"
      },
      "source": [
        "input_length = 100\n",
        "train_partitions = partition_data(norm_train_data, input_length + 1)\n",
        "test_partitions = partition_data(norm_test_data, input_length + 1)\n",
        "x_train, y_train = in_and_out(train_partitions)\n",
        "x_val, y_val = in_and_out(test_partitions)\n",
        "print(f'Number of training examples: {len(x_train)}')"
      ],
      "execution_count": null,
      "outputs": [
        {
          "output_type": "stream",
          "text": [
            "Number of training examples: 305552\n"
          ],
          "name": "stdout"
        }
      ]
    },
    {
      "cell_type": "code",
      "metadata": {
        "id": "4wKcIMeRNRN8",
        "colab": {
          "base_uri": "https://localhost:8080/",
          "height": 396
        },
        "outputId": "54efb7f1-17c8-4ee4-aca8-3b65fe7437be"
      },
      "source": [
        "plt.figure(figsize=(8.6,6.4))\n",
        "plt.hist(norm_train_data.flatten(), bins = round(np.sqrt(len(norm_train_data.flatten()))), density = True)\n",
        "x1,x2,y1,y2 = plt.axis()\n",
        "#plt.plot(np.linspace(x1,x2,500),levy_stable.pdf(np.linspace(x1,x2,500),alpha,beta,mu,c))\n",
        "plt.show()"
      ],
      "execution_count": null,
      "outputs": [
        {
          "output_type": "display_data",
          "data": {
            "image/png": "[encoded data removed]",
            "text/plain": [
              "<Figure size 619.2x460.8 with 1 Axes>"
            ]
          },
          "metadata": {
            "tags": [],
            "needs_background": "light"
          }
        }
      ]
    },
    {
      "cell_type": "code",
      "metadata": {
        "colab": {
          "base_uri": "https://localhost:8080/"
        },
        "id": "OgEH4XOCNEha",
        "outputId": "467745e0-d12b-4172-e760-ebc7e7bee662"
      },
      "source": [
        "x_train[0].shape"
      ],
      "execution_count": null,
      "outputs": [
        {
          "output_type": "execute_result",
          "data": {
            "text/plain": [
              "(1, 100)"
            ]
          },
          "metadata": {
            "tags": []
          },
          "execution_count": 13
        }
      ]
    },
    {
      "cell_type": "code",
      "metadata": {
        "id": "ykBj7HoDSxZ8"
      },
      "source": [
        "n_epochs = 20"
      ],
      "execution_count": null,
      "outputs": []
    },
    {
      "cell_type": "code",
      "metadata": {
        "id": "VvQuBEdAQIVh"
      },
      "source": [
        "model1 = Sequential([\n",
        "        LSTM(1, input_shape = (1,input_length))\n",
        "])\n",
        "\n",
        "model1.compile(optimizer='adam', loss='mse', metrics = ['mae'])"
      ],
      "execution_count": null,
      "outputs": []
    },
    {
      "cell_type": "code",
      "metadata": {
        "colab": {
          "base_uri": "https://localhost:8080/"
        },
        "id": "BF1ZLymrVAQf",
        "outputId": "41b6d91c-e6e2-4d8f-afe0-e697b71189dc"
      },
      "source": [
        "model1.summary()"
      ],
      "execution_count": null,
      "outputs": [
        {
          "output_type": "stream",
          "text": [
            "Model: \"sequential_4\"\n",
            "_________________________________________________________________\n",
            "Layer (type)                 Output Shape              Param #   \n",
            "=================================================================\n",
            "lstm_7 (LSTM)                (None, 1)                 48        \n",
            "=================================================================\n",
            "Total params: 48\n",
            "Trainable params: 48\n",
            "Non-trainable params: 0\n",
            "_________________________________________________________________\n"
          ],
          "name": "stdout"
        }
      ]
    },
    {
      "cell_type": "code",
      "metadata": {
        "colab": {
          "base_uri": "https://localhost:8080/"
        },
        "id": "AqvAnZ-hVBcp",
        "outputId": "c80243d7-9de3-4e9a-e7db-5ea07a8809bc"
      },
      "source": [
        "history1 = model1.fit(x_train, y_train, epochs = n_epochs, batch_size=32, validation_data=(x_val, y_val))"
      ],
      "execution_count": null,
      "outputs": [
        {
          "output_type": "stream",
          "text": [
            "Epoch 1/5\n",
            "10500/10500 [==============================] - 44s 4ms/step - loss: 0.1024 - mae: 0.2665 - val_loss: 0.0812 - val_mae: 0.2446\n",
            "Epoch 2/5\n",
            "10500/10500 [==============================] - 43s 4ms/step - loss: 0.0819 - mae: 0.2459 - val_loss: 0.0812 - val_mae: 0.2445\n",
            "Epoch 3/5\n",
            "10500/10500 [==============================] - 43s 4ms/step - loss: 0.0816 - mae: 0.2451 - val_loss: 0.0811 - val_mae: 0.2443\n",
            "Epoch 4/5\n",
            "10500/10500 [==============================] - 43s 4ms/step - loss: 0.0817 - mae: 0.2455 - val_loss: 0.0810 - val_mae: 0.2441\n",
            "Epoch 5/5\n",
            "10500/10500 [==============================] - 43s 4ms/step - loss: 0.0817 - mae: 0.2453 - val_loss: 0.0810 - val_mae: 0.2441\n"
          ],
          "name": "stdout"
        }
      ]
    },
    {
      "cell_type": "code",
      "metadata": {
        "id": "tcYALrGvhK15"
      },
      "source": [
        "model1.save('r_predicting_network1.h5')"
      ],
      "execution_count": null,
      "outputs": []
    },
    {
      "cell_type": "code",
      "metadata": {
        "colab": {
          "base_uri": "https://localhost:8080/"
        },
        "id": "lVLAnmRkc82m",
        "outputId": "b10bc4f1-d464-4669-fe54-f328f68d9a99"
      },
      "source": [
        "model2 = Sequential([\n",
        "        LSTM(10, input_shape = (1,input_length)),\n",
        "        Dense(1,activation = 'relu')\n",
        "])\n",
        "\n",
        "model2.compile(optimizer='adam', loss='mse', metrics = ['mae'])\n",
        "model2.summary()"
      ],
      "execution_count": null,
      "outputs": [
        {
          "output_type": "stream",
          "text": [
            "Model: \"sequential_5\"\n",
            "_________________________________________________________________\n",
            "Layer (type)                 Output Shape              Param #   \n",
            "=================================================================\n",
            "lstm_8 (LSTM)                (None, 10)                840       \n",
            "_________________________________________________________________\n",
            "dense_10 (Dense)             (None, 1)                 11        \n",
            "=================================================================\n",
            "Total params: 851\n",
            "Trainable params: 851\n",
            "Non-trainable params: 0\n",
            "_________________________________________________________________\n"
          ],
          "name": "stdout"
        }
      ]
    },
    {
      "cell_type": "code",
      "metadata": {
        "id": "5wrKhIUNbD_y"
      },
      "source": [
        "history2 = model2.fit(x_train, y_train, epochs = n_epochs, batch_size=32, validation_data=(x_val, y_val))"
      ],
      "execution_count": null,
      "outputs": []
    },
    {
      "cell_type": "code",
      "metadata": {
        "id": "4ZjD03U_b02k"
      },
      "source": [
        "model2.save('r_predicting_network2.h5')"
      ],
      "execution_count": null,
      "outputs": []
    },
    {
      "cell_type": "code",
      "metadata": {
        "id": "fgyLR_iek5rP"
      },
      "source": [
        "model3 = Sequential([\n",
        "        LSTM(10, return_sequences = True, input_shape = (1,input_length)),\n",
        "        LSTM(35, return_sequences = True),\n",
        "        Dropout(0.2),\n",
        "        LSTM(50, return_sequences = True),\n",
        "        Dropout(0.2),\n",
        "        LSTM(35),\n",
        "        Dropout(0.2),\n",
        "        Dense(5, activation = 'sigmoid'),\n",
        "        Dense(1,activation = 'sigmoid')\n",
        "])\n",
        "\n",
        "model3.compile(optimizer='adam', loss='mse', metrics = ['mae'])\n",
        "model3.summary()"
      ],
      "execution_count": null,
      "outputs": []
    },
    {
      "cell_type": "code",
      "metadata": {
        "id": "pKfF5Eotm90R"
      },
      "source": [
        "history3 = model3.fit(x_train, y_train, epochs = n_epochs, batch_size=32, validation_data=(x_val, y_val))"
      ],
      "execution_count": null,
      "outputs": []
    },
    {
      "cell_type": "code",
      "metadata": {
        "id": "Hpkfd_gwnLCH"
      },
      "source": [
        "model3.save('r_predicting_network3.h5')"
      ],
      "execution_count": null,
      "outputs": []
    },
    {
      "cell_type": "code",
      "metadata": {
        "colab": {
          "base_uri": "https://localhost:8080/"
        },
        "id": "jGL3i4BqnaX3",
        "outputId": "35be857b-4413-4915-aac8-91315fd5effb"
      },
      "source": [
        "model4 = Sequential([\n",
        "        LSTM(input_length, return_sequences = True, input_shape = (1,input_length)),\n",
        "        LSTM(100, return_sequences=True),\n",
        "        LSTM(100, return_sequences=True),\n",
        "        LSTM(60, return_sequences=True),\n",
        "        Dropout(0.2),\n",
        "        LSTM(35, return_sequences = True),\n",
        "        LSTM(5),\n",
        "        Dense(1,activation = 'sigmoid')\n",
        "])\n",
        "\n",
        "model4.compile(optimizer='adam', loss='mse', metrics = ['mae'])\n",
        "model4.summary()"
      ],
      "execution_count": null,
      "outputs": [
        {
          "output_type": "stream",
          "text": [
            "Model: \"sequential_2\"\n",
            "_________________________________________________________________\n",
            "Layer (type)                 Output Shape              Param #   \n",
            "=================================================================\n",
            "lstm_7 (LSTM)                (None, 1, 100)            80400     \n",
            "_________________________________________________________________\n",
            "lstm_8 (LSTM)                (None, 1, 100)            80400     \n",
            "_________________________________________________________________\n",
            "lstm_9 (LSTM)                (None, 1, 100)            80400     \n",
            "_________________________________________________________________\n",
            "lstm_10 (LSTM)               (None, 1, 60)             38640     \n",
            "_________________________________________________________________\n",
            "dropout_2 (Dropout)          (None, 1, 60)             0         \n",
            "_________________________________________________________________\n",
            "lstm_11 (LSTM)               (None, 1, 35)             13440     \n",
            "_________________________________________________________________\n",
            "lstm_12 (LSTM)               (None, 5)                 820       \n",
            "_________________________________________________________________\n",
            "dense_2 (Dense)              (None, 1)                 6         \n",
            "=================================================================\n",
            "Total params: 294,106\n",
            "Trainable params: 294,106\n",
            "Non-trainable params: 0\n",
            "_________________________________________________________________\n"
          ],
          "name": "stdout"
        }
      ]
    },
    {
      "cell_type": "code",
      "metadata": {
        "colab": {
          "base_uri": "https://localhost:8080/"
        },
        "id": "ACnxPL2eoIe5",
        "outputId": "1b6fc9ff-2c02-45f7-dedc-9b3815ffe80e"
      },
      "source": [
        "history4 = model4.fit(x_train, y_train, epochs = n_epochs, batch_size=32, validation_data=(x_val, y_val))"
      ],
      "execution_count": null,
      "outputs": [
        {
          "output_type": "stream",
          "text": [
            "Epoch 1/20\n",
            "9549/9549 [==============================] - 137s 11ms/step - loss: 0.0817 - mae: 0.2453 - val_loss: 0.0782 - val_mae: 0.2388\n",
            "Epoch 2/20\n",
            "9549/9549 [==============================] - 101s 11ms/step - loss: 0.0757 - mae: 0.2335 - val_loss: 0.0727 - val_mae: 0.2259\n",
            "Epoch 3/20\n",
            "9549/9549 [==============================] - 102s 11ms/step - loss: 0.0691 - mae: 0.2198 - val_loss: 0.0705 - val_mae: 0.2202\n",
            "Epoch 4/20\n",
            "9549/9549 [==============================] - 100s 10ms/step - loss: 0.0658 - mae: 0.2128 - val_loss: 0.0691 - val_mae: 0.2172\n",
            "Epoch 5/20\n",
            "9549/9549 [==============================] - 101s 11ms/step - loss: 0.0634 - mae: 0.2080 - val_loss: 0.0675 - val_mae: 0.2130\n",
            "Epoch 6/20\n",
            "9549/9549 [==============================] - 100s 10ms/step - loss: 0.0615 - mae: 0.2041 - val_loss: 0.0673 - val_mae: 0.2128\n",
            "Epoch 7/20\n",
            "9549/9549 [==============================] - 101s 11ms/step - loss: 0.0599 - mae: 0.2006 - val_loss: 0.0662 - val_mae: 0.2105\n",
            "Epoch 8/20\n",
            "9549/9549 [==============================] - 101s 11ms/step - loss: 0.0590 - mae: 0.1985 - val_loss: 0.0661 - val_mae: 0.2101\n",
            "Epoch 9/20\n",
            "9549/9549 [==============================] - 101s 11ms/step - loss: 0.0575 - mae: 0.1953 - val_loss: 0.0664 - val_mae: 0.2092\n",
            "Epoch 10/20\n",
            "9549/9549 [==============================] - 100s 11ms/step - loss: 0.0564 - mae: 0.1933 - val_loss: 0.0662 - val_mae: 0.2093\n",
            "Epoch 11/20\n",
            "9549/9549 [==============================] - 101s 11ms/step - loss: 0.0557 - mae: 0.1918 - val_loss: 0.0666 - val_mae: 0.2080\n",
            "Epoch 12/20\n",
            "9549/9549 [==============================] - 100s 10ms/step - loss: 0.0550 - mae: 0.1902 - val_loss: 0.0672 - val_mae: 0.2083\n",
            "Epoch 13/20\n",
            "9549/9549 [==============================] - 100s 11ms/step - loss: 0.0543 - mae: 0.1887 - val_loss: 0.0662 - val_mae: 0.2073\n",
            "Epoch 14/20\n",
            "9549/9549 [==============================] - 100s 10ms/step - loss: 0.0535 - mae: 0.1870 - val_loss: 0.0667 - val_mae: 0.2079\n",
            "Epoch 15/20\n",
            "9549/9549 [==============================] - 100s 11ms/step - loss: 0.0529 - mae: 0.1857 - val_loss: 0.0668 - val_mae: 0.2074\n",
            "Epoch 16/20\n",
            "9549/9549 [==============================] - 101s 11ms/step - loss: 0.0522 - mae: 0.1843 - val_loss: 0.0678 - val_mae: 0.2082\n",
            "Epoch 17/20\n",
            "9549/9549 [==============================] - 101s 11ms/step - loss: 0.0519 - mae: 0.1836 - val_loss: 0.0668 - val_mae: 0.2070\n",
            "Epoch 18/20\n",
            "9549/9549 [==============================] - 101s 11ms/step - loss: 0.0511 - mae: 0.1820 - val_loss: 0.0667 - val_mae: 0.2077\n",
            "Epoch 19/20\n",
            "9549/9549 [==============================] - 100s 10ms/step - loss: 0.0505 - mae: 0.1807 - val_loss: 0.0664 - val_mae: 0.2066\n",
            "Epoch 20/20\n",
            "9549/9549 [==============================] - 100s 10ms/step - loss: 0.0504 - mae: 0.1804 - val_loss: 0.0667 - val_mae: 0.2060\n"
          ],
          "name": "stdout"
        }
      ]
    },
    {
      "cell_type": "code",
      "metadata": {
        "id": "jF0z6XMrpTbM"
      },
      "source": [
        "model4.save('r_predicting_network4.h5')"
      ],
      "execution_count": null,
      "outputs": []
    },
    {
      "cell_type": "code",
      "metadata": {
        "colab": {
          "base_uri": "https://localhost:8080/",
          "height": 267
        },
        "id": "lzs4EQbW0hOf",
        "outputId": "06a0976c-65f0-4d5e-b33a-54258cb52d32"
      },
      "source": [
        "plt.plot(list(history4.history['val_mae']))\n",
        "plt.grid()\n",
        "plt.show()"
      ],
      "execution_count": null,
      "outputs": [
        {
          "output_type": "display_data",
          "data": {
            "image/png": "[encoded data removed]",
            "text/plain": [
              "<Figure size 432x288 with 1 Axes>"
            ]
          },
          "metadata": {
            "tags": [],
            "needs_background": "light"
          }
        }
      ]
    },
    {
      "cell_type": "code",
      "metadata": {
        "colab": {
          "base_uri": "https://localhost:8080/"
        },
        "id": "POtoO4hSdGbC",
        "outputId": "7730cee4-6aa1-43a8-8461-876d5a98116a"
      },
      "source": [
        "model5 = Sequential([\n",
        "        LSTM(250, return_sequences = True, input_shape = (1,input_length)),\n",
        "        Dropout(0.2),\n",
        "        LSTM(250, return_sequences = True),\n",
        "        Dropout(0.2),\n",
        "        LSTM(16),\n",
        "        Dense(1,activation = 'sigmoid')\n",
        "])\n",
        "\n",
        "model5.compile(optimizer='adam', loss='mse', metrics = ['mae'])\n",
        "model5.summary()"
      ],
      "execution_count": null,
      "outputs": [
        {
          "output_type": "stream",
          "text": [
            "Model: \"sequential_2\"\n",
            "_________________________________________________________________\n",
            "Layer (type)                 Output Shape              Param #   \n",
            "=================================================================\n",
            "lstm_6 (LSTM)                (None, 1, 250)            261000    \n",
            "_________________________________________________________________\n",
            "dropout_4 (Dropout)          (None, 1, 250)            0         \n",
            "_________________________________________________________________\n",
            "lstm_7 (LSTM)                (None, 1, 250)            501000    \n",
            "_________________________________________________________________\n",
            "dropout_5 (Dropout)          (None, 1, 250)            0         \n",
            "_________________________________________________________________\n",
            "lstm_8 (LSTM)                (None, 16)                17088     \n",
            "_________________________________________________________________\n",
            "dense_2 (Dense)              (None, 1)                 17        \n",
            "=================================================================\n",
            "Total params: 779,105\n",
            "Trainable params: 779,105\n",
            "Non-trainable params: 0\n",
            "_________________________________________________________________\n"
          ],
          "name": "stdout"
        }
      ]
    },
    {
      "cell_type": "code",
      "metadata": {
        "colab": {
          "base_uri": "https://localhost:8080/"
        },
        "id": "OcosoxLXdUvY",
        "outputId": "186eb66e-2819-486a-e56a-ff8257be5562"
      },
      "source": [
        "history5 = model5.fit(x_train, y_train, epochs = n_epochs, batch_size=32, validation_data=(x_val, y_val))"
      ],
      "execution_count": null,
      "outputs": [
        {
          "output_type": "stream",
          "text": [
            "Epoch 1/50\n",
            "10500/10500 [==============================] - 79s 7ms/step - loss: 0.0820 - mae: 0.2460 - val_loss: 0.0810 - val_mae: 0.2442\n",
            "Epoch 2/50\n",
            "10500/10500 [==============================] - 75s 7ms/step - loss: 0.0816 - mae: 0.2453 - val_loss: 0.0809 - val_mae: 0.2440\n",
            "Epoch 3/50\n",
            "10500/10500 [==============================] - 76s 7ms/step - loss: 0.0818 - mae: 0.2456 - val_loss: 0.0808 - val_mae: 0.2438\n",
            "Epoch 4/50\n",
            "10500/10500 [==============================] - 74s 7ms/step - loss: 0.0814 - mae: 0.2447 - val_loss: 0.0807 - val_mae: 0.2436\n",
            "Epoch 5/50\n",
            "10500/10500 [==============================] - 76s 7ms/step - loss: 0.0810 - mae: 0.2439 - val_loss: 0.0805 - val_mae: 0.2433\n",
            "Epoch 6/50\n",
            "10500/10500 [==============================] - 77s 7ms/step - loss: 0.0811 - mae: 0.2443 - val_loss: 0.0804 - val_mae: 0.2428\n",
            "Epoch 7/50\n",
            "10500/10500 [==============================] - 75s 7ms/step - loss: 0.0811 - mae: 0.2442 - val_loss: 0.0803 - val_mae: 0.2427\n",
            "Epoch 8/50\n",
            "10500/10500 [==============================] - 76s 7ms/step - loss: 0.0810 - mae: 0.2440 - val_loss: 0.0802 - val_mae: 0.2424\n",
            "Epoch 9/50\n",
            "10500/10500 [==============================] - 74s 7ms/step - loss: 0.0809 - mae: 0.2438 - val_loss: 0.0799 - val_mae: 0.2416\n",
            "Epoch 10/50\n",
            "10500/10500 [==============================] - 75s 7ms/step - loss: 0.0806 - mae: 0.2432 - val_loss: 0.0797 - val_mae: 0.2415\n",
            "Epoch 11/50\n",
            "10500/10500 [==============================] - 74s 7ms/step - loss: 0.0805 - mae: 0.2431 - val_loss: 0.0796 - val_mae: 0.2408\n",
            "Epoch 12/50\n",
            "10500/10500 [==============================] - 75s 7ms/step - loss: 0.0799 - mae: 0.2417 - val_loss: 0.0795 - val_mae: 0.2408\n",
            "Epoch 13/50\n",
            "10500/10500 [==============================] - 75s 7ms/step - loss: 0.0795 - mae: 0.2411 - val_loss: 0.0792 - val_mae: 0.2403\n",
            "Epoch 14/50\n",
            "10500/10500 [==============================] - 75s 7ms/step - loss: 0.0793 - mae: 0.2408 - val_loss: 0.0791 - val_mae: 0.2399\n",
            "Epoch 15/50\n",
            "10500/10500 [==============================] - 75s 7ms/step - loss: 0.0793 - mae: 0.2406 - val_loss: 0.0790 - val_mae: 0.2397\n",
            "Epoch 16/50\n",
            "10500/10500 [==============================] - 76s 7ms/step - loss: 0.0789 - mae: 0.2397 - val_loss: 0.0789 - val_mae: 0.2394\n",
            "Epoch 17/50\n",
            "10500/10500 [==============================] - 75s 7ms/step - loss: 0.0788 - mae: 0.2396 - val_loss: 0.0788 - val_mae: 0.2392\n",
            "Epoch 18/50\n",
            "10500/10500 [==============================] - 74s 7ms/step - loss: 0.0784 - mae: 0.2389 - val_loss: 0.0787 - val_mae: 0.2392\n",
            "Epoch 19/50\n",
            "10500/10500 [==============================] - 74s 7ms/step - loss: 0.0783 - mae: 0.2386 - val_loss: 0.0787 - val_mae: 0.2388\n",
            "Epoch 20/50\n",
            "10500/10500 [==============================] - 76s 7ms/step - loss: 0.0779 - mae: 0.2380 - val_loss: 0.0787 - val_mae: 0.2386\n",
            "Epoch 21/50\n",
            "10500/10500 [==============================] - 75s 7ms/step - loss: 0.0777 - mae: 0.2373 - val_loss: 0.0786 - val_mae: 0.2386\n",
            "Epoch 22/50\n",
            "10500/10500 [==============================] - 74s 7ms/step - loss: 0.0776 - mae: 0.2373 - val_loss: 0.0787 - val_mae: 0.2383\n",
            "Epoch 23/50\n",
            "10500/10500 [==============================] - 74s 7ms/step - loss: 0.0773 - mae: 0.2366 - val_loss: 0.0787 - val_mae: 0.2382\n",
            "Epoch 24/50\n",
            "10500/10500 [==============================] - 75s 7ms/step - loss: 0.0772 - mae: 0.2365 - val_loss: 0.0787 - val_mae: 0.2383\n",
            "Epoch 25/50\n",
            "10500/10500 [==============================] - 73s 7ms/step - loss: 0.0770 - mae: 0.2361 - val_loss: 0.0785 - val_mae: 0.2380\n",
            "Epoch 26/50\n",
            "10500/10500 [==============================] - 74s 7ms/step - loss: 0.0767 - mae: 0.2355 - val_loss: 0.0787 - val_mae: 0.2378\n",
            "Epoch 27/50\n",
            "10500/10500 [==============================] - 73s 7ms/step - loss: 0.0765 - mae: 0.2351 - val_loss: 0.0785 - val_mae: 0.2379\n",
            "Epoch 28/50\n",
            "10500/10500 [==============================] - 75s 7ms/step - loss: 0.0765 - mae: 0.2350 - val_loss: 0.0786 - val_mae: 0.2379\n",
            "Epoch 29/50\n",
            "10500/10500 [==============================] - 73s 7ms/step - loss: 0.0764 - mae: 0.2347 - val_loss: 0.0787 - val_mae: 0.2377\n",
            "Epoch 30/50\n",
            "10500/10500 [==============================] - 74s 7ms/step - loss: 0.0761 - mae: 0.2343 - val_loss: 0.0787 - val_mae: 0.2378\n",
            "Epoch 31/50\n",
            "10500/10500 [==============================] - 74s 7ms/step - loss: 0.0758 - mae: 0.2335 - val_loss: 0.0788 - val_mae: 0.2374\n",
            "Epoch 32/50\n",
            "10500/10500 [==============================] - 73s 7ms/step - loss: 0.0755 - mae: 0.2329 - val_loss: 0.0787 - val_mae: 0.2375\n",
            "Epoch 33/50\n",
            "10500/10500 [==============================] - 74s 7ms/step - loss: 0.0755 - mae: 0.2329 - val_loss: 0.0787 - val_mae: 0.2376\n",
            "Epoch 34/50\n",
            "10500/10500 [==============================] - 73s 7ms/step - loss: 0.0754 - mae: 0.2328 - val_loss: 0.0787 - val_mae: 0.2373\n",
            "Epoch 35/50\n",
            "10500/10500 [==============================] - 73s 7ms/step - loss: 0.0752 - mae: 0.2325 - val_loss: 0.0787 - val_mae: 0.2374\n",
            "Epoch 36/50\n",
            "10500/10500 [==============================] - 74s 7ms/step - loss: 0.0751 - mae: 0.2323 - val_loss: 0.0790 - val_mae: 0.2372\n",
            "Epoch 37/50\n",
            "10500/10500 [==============================] - 74s 7ms/step - loss: 0.0749 - mae: 0.2318 - val_loss: 0.0789 - val_mae: 0.2372\n",
            "Epoch 38/50\n",
            "10500/10500 [==============================] - 73s 7ms/step - loss: 0.0750 - mae: 0.2319 - val_loss: 0.0790 - val_mae: 0.2374\n",
            "Epoch 39/50\n",
            "10500/10500 [==============================] - 74s 7ms/step - loss: 0.0746 - mae: 0.2310 - val_loss: 0.0791 - val_mae: 0.2374\n",
            "Epoch 40/50\n",
            "10500/10500 [==============================] - 73s 7ms/step - loss: 0.0744 - mae: 0.2308 - val_loss: 0.0790 - val_mae: 0.2371\n",
            "Epoch 41/50\n",
            "10500/10500 [==============================] - 74s 7ms/step - loss: 0.0744 - mae: 0.2308 - val_loss: 0.0792 - val_mae: 0.2372\n",
            "Epoch 42/50\n",
            "10500/10500 [==============================] - 73s 7ms/step - loss: 0.0742 - mae: 0.2302 - val_loss: 0.0791 - val_mae: 0.2373\n",
            "Epoch 43/50\n",
            "10500/10500 [==============================] - 72s 7ms/step - loss: 0.0742 - mae: 0.2302 - val_loss: 0.0792 - val_mae: 0.2370\n",
            "Epoch 44/50\n",
            "10500/10500 [==============================] - 74s 7ms/step - loss: 0.0740 - mae: 0.2298 - val_loss: 0.0793 - val_mae: 0.2371\n",
            "Epoch 45/50\n",
            "10500/10500 [==============================] - 74s 7ms/step - loss: 0.0739 - mae: 0.2298 - val_loss: 0.0792 - val_mae: 0.2373\n",
            "Epoch 46/50\n",
            "10500/10500 [==============================] - 73s 7ms/step - loss: 0.0738 - mae: 0.2296 - val_loss: 0.0794 - val_mae: 0.2373\n",
            "Epoch 47/50\n",
            "10500/10500 [==============================] - 73s 7ms/step - loss: 0.0736 - mae: 0.2290 - val_loss: 0.0793 - val_mae: 0.2373\n",
            "Epoch 48/50\n",
            "10500/10500 [==============================] - 74s 7ms/step - loss: 0.0733 - mae: 0.2286 - val_loss: 0.0797 - val_mae: 0.2371\n",
            "Epoch 49/50\n",
            "10500/10500 [==============================] - 73s 7ms/step - loss: 0.0735 - mae: 0.2288 - val_loss: 0.0796 - val_mae: 0.2372\n",
            "Epoch 50/50\n",
            "10500/10500 [==============================] - 72s 7ms/step - loss: 0.0731 - mae: 0.2281 - val_loss: 0.0796 - val_mae: 0.2371\n"
          ],
          "name": "stdout"
        }
      ]
    },
    {
      "cell_type": "code",
      "metadata": {
        "id": "jc9_j6KBSB-U"
      },
      "source": [
        "model5.save('r_predicting_network5.h5')"
      ],
      "execution_count": null,
      "outputs": []
    },
    {
      "cell_type": "code",
      "metadata": {
        "colab": {
          "base_uri": "https://localhost:8080/"
        },
        "id": "e_2Aak76b1uj",
        "outputId": "8f7e7410-d10f-41f1-a0ee-55286fa545ee"
      },
      "source": [
        "model6 = Sequential([\n",
        "        Conv1D(filters = 128, kernel_size = 5, padding = 'same', input_shape = (1,input_length)),\n",
        "        Conv1D(filters = 64, kernel_size = 3, padding = 'same'),\n",
        "        MaxPooling1D(pool_size = 2, padding = 'same'),\n",
        "        Flatten(),\n",
        "        Dense(50, activation = 'sigmoid'),\n",
        "        Dense(30, activation = 'sigmoid'),\n",
        "        Dense(1,activation = 'sigmoid')\n",
        "])\n",
        "\n",
        "model6.compile(optimizer='adam', loss='mse', metrics = ['mae'])\n",
        "model6.summary()"
      ],
      "execution_count": null,
      "outputs": [
        {
          "output_type": "stream",
          "text": [
            "Model: \"sequential_9\"\n",
            "_________________________________________________________________\n",
            "Layer (type)                 Output Shape              Param #   \n",
            "=================================================================\n",
            "conv1d_6 (Conv1D)            (None, 1, 128)            6528      \n",
            "_________________________________________________________________\n",
            "conv1d_7 (Conv1D)            (None, 1, 64)             24640     \n",
            "_________________________________________________________________\n",
            "max_pooling1d_3 (MaxPooling1 (None, 1, 64)             0         \n",
            "_________________________________________________________________\n",
            "flatten_1 (Flatten)          (None, 64)                0         \n",
            "_________________________________________________________________\n",
            "dense_18 (Dense)             (None, 50)                3250      \n",
            "_________________________________________________________________\n",
            "dense_19 (Dense)             (None, 30)                1530      \n",
            "_________________________________________________________________\n",
            "dense_20 (Dense)             (None, 1)                 31        \n",
            "=================================================================\n",
            "Total params: 35,979\n",
            "Trainable params: 35,979\n",
            "Non-trainable params: 0\n",
            "_________________________________________________________________\n"
          ],
          "name": "stdout"
        }
      ]
    },
    {
      "cell_type": "code",
      "metadata": {
        "colab": {
          "base_uri": "https://localhost:8080/"
        },
        "id": "_gI1N1Cri6hN",
        "outputId": "790a9bf4-2101-46bb-df89-6911b3287816"
      },
      "source": [
        "history6 = model6.fit(x_train, y_train, epochs = n_epochs, batch_size=32, validation_data=(x_val, y_val))"
      ],
      "execution_count": null,
      "outputs": [
        {
          "output_type": "stream",
          "text": [
            "Epoch 1/25\n",
            "10500/10500 [==============================] - 36s 3ms/step - loss: 0.0343 - mae: 0.1245 - val_loss: 0.0332 - val_mae: 0.1224\n",
            "Epoch 2/25\n",
            "10500/10500 [==============================] - 35s 3ms/step - loss: 0.0341 - mae: 0.1235 - val_loss: 0.0331 - val_mae: 0.1218\n",
            "Epoch 3/25\n",
            "10500/10500 [==============================] - 35s 3ms/step - loss: 0.0340 - mae: 0.1236 - val_loss: 0.0331 - val_mae: 0.1218\n",
            "Epoch 4/25\n",
            "10500/10500 [==============================] - 36s 3ms/step - loss: 0.0343 - mae: 0.1236 - val_loss: 0.0332 - val_mae: 0.1218\n",
            "Epoch 5/25\n",
            "10500/10500 [==============================] - 35s 3ms/step - loss: 0.0340 - mae: 0.1234 - val_loss: 0.0331 - val_mae: 0.1217\n",
            "Epoch 6/25\n",
            "10500/10500 [==============================] - 36s 3ms/step - loss: 0.0338 - mae: 0.1232 - val_loss: 0.0332 - val_mae: 0.1222\n",
            "Epoch 7/25\n",
            "10500/10500 [==============================] - 36s 3ms/step - loss: 0.0339 - mae: 0.1235 - val_loss: 0.0331 - val_mae: 0.1218\n",
            "Epoch 8/25\n",
            "10500/10500 [==============================] - 35s 3ms/step - loss: 0.0341 - mae: 0.1235 - val_loss: 0.0331 - val_mae: 0.1219\n",
            "Epoch 9/25\n",
            "10500/10500 [==============================] - 36s 3ms/step - loss: 0.0338 - mae: 0.1235 - val_loss: 0.0331 - val_mae: 0.1219\n",
            "Epoch 10/25\n",
            "10500/10500 [==============================] - 35s 3ms/step - loss: 0.0338 - mae: 0.1232 - val_loss: 0.0331 - val_mae: 0.1217\n",
            "Epoch 11/25\n",
            "10500/10500 [==============================] - 35s 3ms/step - loss: 0.0342 - mae: 0.1233 - val_loss: 0.0331 - val_mae: 0.1219\n",
            "Epoch 12/25\n",
            "10500/10500 [==============================] - 35s 3ms/step - loss: 0.0339 - mae: 0.1230 - val_loss: 0.0331 - val_mae: 0.1220\n",
            "Epoch 13/25\n",
            "10500/10500 [==============================] - 35s 3ms/step - loss: 0.0343 - mae: 0.1232 - val_loss: 0.0331 - val_mae: 0.1218\n",
            "Epoch 14/25\n",
            "10500/10500 [==============================] - 34s 3ms/step - loss: 0.0345 - mae: 0.1234 - val_loss: 0.0331 - val_mae: 0.1218\n",
            "Epoch 15/25\n",
            "10500/10500 [==============================] - 35s 3ms/step - loss: 0.0339 - mae: 0.1231 - val_loss: 0.0331 - val_mae: 0.1218\n",
            "Epoch 16/25\n",
            "10500/10500 [==============================] - 34s 3ms/step - loss: 0.0336 - mae: 0.1230 - val_loss: 0.0331 - val_mae: 0.1220\n",
            "Epoch 17/25\n",
            "10500/10500 [==============================] - 34s 3ms/step - loss: 0.0337 - mae: 0.1229 - val_loss: 0.0331 - val_mae: 0.1218\n",
            "Epoch 18/25\n",
            "10500/10500 [==============================] - 35s 3ms/step - loss: 0.0342 - mae: 0.1238 - val_loss: 0.0331 - val_mae: 0.1217\n",
            "Epoch 19/25\n",
            "10500/10500 [==============================] - 34s 3ms/step - loss: 0.0346 - mae: 0.1237 - val_loss: 0.0331 - val_mae: 0.1219\n",
            "Epoch 20/25\n",
            "10500/10500 [==============================] - 34s 3ms/step - loss: 0.0347 - mae: 0.1234 - val_loss: 0.0331 - val_mae: 0.1218\n",
            "Epoch 21/25\n",
            "10500/10500 [==============================] - 34s 3ms/step - loss: 0.0341 - mae: 0.1229 - val_loss: 0.0331 - val_mae: 0.1218\n",
            "Epoch 22/25\n",
            "10500/10500 [==============================] - 35s 3ms/step - loss: 0.0338 - mae: 0.1233 - val_loss: 0.0331 - val_mae: 0.1217\n",
            "Epoch 23/25\n",
            "10500/10500 [==============================] - 34s 3ms/step - loss: 0.0336 - mae: 0.1229 - val_loss: 0.0331 - val_mae: 0.1218\n",
            "Epoch 24/25\n",
            "10500/10500 [==============================] - 34s 3ms/step - loss: 0.0338 - mae: 0.1235 - val_loss: 0.0331 - val_mae: 0.1217\n",
            "Epoch 25/25\n",
            "10500/10500 [==============================] - 34s 3ms/step - loss: 0.0336 - mae: 0.1232 - val_loss: 0.0331 - val_mae: 0.1219\n"
          ],
          "name": "stdout"
        }
      ]
    },
    {
      "cell_type": "code",
      "metadata": {
        "id": "_RZWG6nOk24R"
      },
      "source": [
        "model6.save('r_predicting_network6.h5')"
      ],
      "execution_count": null,
      "outputs": []
    },
    {
      "cell_type": "code",
      "metadata": {
        "id": "HJWocIQpxBdO",
        "colab": {
          "base_uri": "https://localhost:8080/"
        },
        "outputId": "b4c86ee2-f11e-4572-9514-e0293ff080c2"
      },
      "source": [
        "model7 = Sequential([\n",
        "        Conv1D(filters = 128, kernel_size = 5, padding = 'same', input_shape = (1,input_length)),\n",
        "        Conv1D(filters = 128, kernel_size = 5, padding = 'same'),\n",
        "        MaxPooling1D(pool_size = 2, padding = 'same'),\n",
        "        Dropout(0.2),\n",
        "        Conv1D(filters = 64, kernel_size = 3, padding = 'same'),\n",
        "        Conv1D(filters = 64, kernel_size = 3, padding = 'same'),\n",
        "        MaxPooling1D(pool_size = 2, padding = 'same'),\n",
        "        Dropout(0.2),\n",
        "        LSTM(64, return_sequences=True),\n",
        "        Dropout(0.2),\n",
        "        LSTM(16, return_sequences=True),\n",
        "        Dense(1,activation = 'sigmoid')\n",
        "])\n",
        "\n",
        "model7.compile(optimizer='adam', loss='mse', metrics = ['mae'])\n",
        "model7.summary()"
      ],
      "execution_count": null,
      "outputs": [
        {
          "output_type": "stream",
          "text": [
            "Model: \"sequential_10\"\n",
            "_________________________________________________________________\n",
            "Layer (type)                 Output Shape              Param #   \n",
            "=================================================================\n",
            "conv1d_8 (Conv1D)            (None, 1, 128)            6528      \n",
            "_________________________________________________________________\n",
            "conv1d_9 (Conv1D)            (None, 1, 128)            82048     \n",
            "_________________________________________________________________\n",
            "max_pooling1d_4 (MaxPooling1 (None, 1, 128)            0         \n",
            "_________________________________________________________________\n",
            "dropout_11 (Dropout)         (None, 1, 128)            0         \n",
            "_________________________________________________________________\n",
            "conv1d_10 (Conv1D)           (None, 1, 64)             24640     \n",
            "_________________________________________________________________\n",
            "conv1d_11 (Conv1D)           (None, 1, 64)             12352     \n",
            "_________________________________________________________________\n",
            "max_pooling1d_5 (MaxPooling1 (None, 1, 64)             0         \n",
            "_________________________________________________________________\n",
            "dropout_12 (Dropout)         (None, 1, 64)             0         \n",
            "_________________________________________________________________\n",
            "lstm_17 (LSTM)               (None, 1, 64)             33024     \n",
            "_________________________________________________________________\n",
            "dropout_13 (Dropout)         (None, 1, 64)             0         \n",
            "_________________________________________________________________\n",
            "lstm_18 (LSTM)               (None, 1, 16)             5184      \n",
            "_________________________________________________________________\n",
            "dense_21 (Dense)             (None, 1, 1)              17        \n",
            "=================================================================\n",
            "Total params: 163,793\n",
            "Trainable params: 163,793\n",
            "Non-trainable params: 0\n",
            "_________________________________________________________________\n"
          ],
          "name": "stdout"
        }
      ]
    },
    {
      "cell_type": "code",
      "metadata": {
        "id": "KDX2rfEPxFpD",
        "colab": {
          "base_uri": "https://localhost:8080/"
        },
        "outputId": "cd4f5a46-adb1-4757-ee60-a0ee99b1cc1a"
      },
      "source": [
        "history7 = model7.fit(x_train, y_train, epochs = n_epochs, batch_size=32, validation_data=(x_val, y_val))"
      ],
      "execution_count": null,
      "outputs": [
        {
          "output_type": "stream",
          "text": [
            "Epoch 1/25\n",
            "10500/10500 [==============================] - 75s 7ms/step - loss: 0.0338 - mae: 0.1233 - val_loss: 0.0332 - val_mae: 0.1220\n",
            "Epoch 2/25\n",
            "10500/10500 [==============================] - 72s 7ms/step - loss: 0.0335 - mae: 0.1232 - val_loss: 0.0332 - val_mae: 0.1219\n",
            "Epoch 3/25\n",
            "10500/10500 [==============================] - 72s 7ms/step - loss: 0.0339 - mae: 0.1234 - val_loss: 0.0332 - val_mae: 0.1218\n",
            "Epoch 4/25\n",
            "10500/10500 [==============================] - 72s 7ms/step - loss: 0.0340 - mae: 0.1234 - val_loss: 0.0332 - val_mae: 0.1219\n",
            "Epoch 5/25\n",
            "10500/10500 [==============================] - 72s 7ms/step - loss: 0.0344 - mae: 0.1237 - val_loss: 0.0332 - val_mae: 0.1219\n",
            "Epoch 6/25\n",
            "10500/10500 [==============================] - 72s 7ms/step - loss: 0.0337 - mae: 0.1231 - val_loss: 0.0332 - val_mae: 0.1218\n",
            "Epoch 7/25\n",
            "10500/10500 [==============================] - 72s 7ms/step - loss: 0.0339 - mae: 0.1232 - val_loss: 0.0332 - val_mae: 0.1222\n",
            "Epoch 8/25\n",
            "10500/10500 [==============================] - 72s 7ms/step - loss: 0.0333 - mae: 0.1229 - val_loss: 0.0332 - val_mae: 0.1219\n",
            "Epoch 9/25\n",
            "10500/10500 [==============================] - 72s 7ms/step - loss: 0.0336 - mae: 0.1230 - val_loss: 0.0332 - val_mae: 0.1220\n",
            "Epoch 10/25\n",
            "10500/10500 [==============================] - 72s 7ms/step - loss: 0.0338 - mae: 0.1235 - val_loss: 0.0332 - val_mae: 0.1220\n",
            "Epoch 11/25\n",
            "10500/10500 [==============================] - 72s 7ms/step - loss: 0.0341 - mae: 0.1234 - val_loss: 0.0332 - val_mae: 0.1219\n",
            "Epoch 12/25\n",
            "10500/10500 [==============================] - 72s 7ms/step - loss: 0.0343 - mae: 0.1235 - val_loss: 0.0332 - val_mae: 0.1219\n",
            "Epoch 13/25\n",
            "10500/10500 [==============================] - 72s 7ms/step - loss: 0.0344 - mae: 0.1233 - val_loss: 0.0332 - val_mae: 0.1219\n",
            "Epoch 14/25\n",
            "10500/10500 [==============================] - 73s 7ms/step - loss: 0.0341 - mae: 0.1233 - val_loss: 0.0332 - val_mae: 0.1219\n",
            "Epoch 15/25\n",
            "10500/10500 [==============================] - 72s 7ms/step - loss: 0.0341 - mae: 0.1234 - val_loss: 0.0332 - val_mae: 0.1218\n",
            "Epoch 16/25\n",
            "10500/10500 [==============================] - 73s 7ms/step - loss: 0.0343 - mae: 0.1233 - val_loss: 0.0332 - val_mae: 0.1219\n",
            "Epoch 17/25\n",
            "10500/10500 [==============================] - 72s 7ms/step - loss: 0.0339 - mae: 0.1233 - val_loss: 0.0332 - val_mae: 0.1219\n",
            "Epoch 18/25\n",
            "10500/10500 [==============================] - 73s 7ms/step - loss: 0.0342 - mae: 0.1234 - val_loss: 0.0332 - val_mae: 0.1220\n",
            "Epoch 19/25\n",
            "10500/10500 [==============================] - 73s 7ms/step - loss: 0.0343 - mae: 0.1236 - val_loss: 0.0332 - val_mae: 0.1219\n",
            "Epoch 20/25\n",
            "10500/10500 [==============================] - 73s 7ms/step - loss: 0.0335 - mae: 0.1232 - val_loss: 0.0332 - val_mae: 0.1219\n",
            "Epoch 21/25\n",
            "10500/10500 [==============================] - 72s 7ms/step - loss: 0.0340 - mae: 0.1232 - val_loss: 0.0332 - val_mae: 0.1218\n",
            "Epoch 22/25\n",
            "10500/10500 [==============================] - 72s 7ms/step - loss: 0.0342 - mae: 0.1235 - val_loss: 0.0332 - val_mae: 0.1218\n",
            "Epoch 23/25\n",
            "10500/10500 [==============================] - 73s 7ms/step - loss: 0.0338 - mae: 0.1231 - val_loss: 0.0332 - val_mae: 0.1219\n",
            "Epoch 24/25\n",
            "10500/10500 [==============================] - 72s 7ms/step - loss: 0.0335 - mae: 0.1229 - val_loss: 0.0332 - val_mae: 0.1220\n",
            "Epoch 25/25\n",
            "10500/10500 [==============================] - 72s 7ms/step - loss: 0.0340 - mae: 0.1233 - val_loss: 0.0332 - val_mae: 0.1218\n"
          ],
          "name": "stdout"
        }
      ]
    },
    {
      "cell_type": "code",
      "metadata": {
        "id": "sh-PmyOIdFnp"
      },
      "source": [
        "model7.save('r_predicting_network7.h5')"
      ],
      "execution_count": null,
      "outputs": []
    },
    {
      "cell_type": "code",
      "metadata": {
        "id": "PdgPac-_pVzg",
        "colab": {
          "base_uri": "https://localhost:8080/"
        },
        "outputId": "bb9381b6-306b-4329-9417-a8a94a924ce1"
      },
      "source": [
        "model8 = Sequential([\n",
        "        Dense(10, input_shape = (1,input_length), activation = 'sigmoid'),\n",
        "        Dense(31, activation = 'sigmoid'),\n",
        "        Dense(97, activation = 'sigmoid'),\n",
        "        Dense(300, activation = 'sigmoid'),\n",
        "        Dense(97, activation = 'sigmoid'),\n",
        "        Dense(31, activation = 'sigmoid'),\n",
        "        Dense(10, activation = 'sigmoid'),\n",
        "        Dense(1, activation = 'sigmoid'),\n",
        "])\n",
        "\n",
        "model8.compile(optimizer='adam', loss='mse', metrics = ['mae'])\n",
        "model8.summary()"
      ],
      "execution_count": null,
      "outputs": [
        {
          "output_type": "stream",
          "text": [
            "Model: \"sequential_2\"\n",
            "_________________________________________________________________\n",
            "Layer (type)                 Output Shape              Param #   \n",
            "=================================================================\n",
            "dense_2 (Dense)              (None, 1, 10)             110       \n",
            "_________________________________________________________________\n",
            "dense_3 (Dense)              (None, 1, 31)             341       \n",
            "_________________________________________________________________\n",
            "dense_4 (Dense)              (None, 1, 97)             3104      \n",
            "_________________________________________________________________\n",
            "dense_5 (Dense)              (None, 1, 300)            29400     \n",
            "_________________________________________________________________\n",
            "dense_6 (Dense)              (None, 1, 97)             29197     \n",
            "_________________________________________________________________\n",
            "dense_7 (Dense)              (None, 1, 31)             3038      \n",
            "_________________________________________________________________\n",
            "dense_8 (Dense)              (None, 1, 10)             320       \n",
            "_________________________________________________________________\n",
            "dense_9 (Dense)              (None, 1, 1)              11        \n",
            "=================================================================\n",
            "Total params: 65,521\n",
            "Trainable params: 65,521\n",
            "Non-trainable params: 0\n",
            "_________________________________________________________________\n"
          ],
          "name": "stdout"
        }
      ]
    },
    {
      "cell_type": "code",
      "metadata": {
        "id": "wmeDeRG6tnuD"
      },
      "source": [
        "history8 = model8.fit(x_train, y_train, epochs = n_epochs, batch_size=32, validation_data=(x_val, y_val))"
      ],
      "execution_count": null,
      "outputs": []
    },
    {
      "cell_type": "code",
      "metadata": {
        "id": "bssi6xhK0It5"
      },
      "source": [
        "model8.save('r_predicting_network8.h5')"
      ],
      "execution_count": null,
      "outputs": []
    },
    {
      "cell_type": "code",
      "metadata": {
        "id": "psOqxST2vnVR",
        "colab": {
          "base_uri": "https://localhost:8080/"
        },
        "outputId": "d6d1aeb9-2aa9-4dd1-f48d-ddda005f013d"
      },
      "source": [
        "mus = [np.mean(seq) for seq in x_val]\n",
        "dmus = [abs(mus[i] - y_val[i]) for i in range(len(mus))]\n",
        "mae_mu = np.mean(dmus)\n",
        "\n",
        "dlast_value = [abs(x_val[i][-1] - y_val[i]) for i in range(len(mus))]\n",
        "mae_last_value = np.mean(dlast_value)\n",
        "print(f'mae from averaging: {mae_mu:.4f}')\n",
        "print(f'mae from last value: {mae_last_value:.4f}')"
      ],
      "execution_count": null,
      "outputs": [
        {
          "output_type": "stream",
          "text": [
            "mae from averaging: 0.2543\n",
            "mae from last value: 0.3246\n"
          ],
          "name": "stdout"
        }
      ]
    },
    {
      "cell_type": "code",
      "metadata": {
        "id": "7rWbUTQwzaa9"
      },
      "source": [
        "for i, fit_history in enumerate([history1, history2, history3, history4, history5, history6, history7, history8]):\n",
        "  print(f'Model {i} last val_mae value: {np.array(list(fit_history.history.values()))[-1][-1]:.4f}')"
      ],
      "execution_count": null,
      "outputs": []
    },
    {
      "cell_type": "code",
      "metadata": {
        "id": "0REKNH-8WnMv"
      },
      "source": [
        "outputs = [[] for i in range(8)]\n",
        "for i, model in enumerate([model1, model2, model3, model4, model5, model6, model7, model8]):\n",
        "  print('Model', i+1)\n",
        "  for seq in x_val[:10000]:\n",
        "    x = model.predict(np.array([seq]))\n",
        "    outputs[i].append(x.flatten()[0])\n",
        "  plt.figure()\n",
        "  plt.hist(outputs[i], bins = 100)\n",
        "  plt.title(f'Output Shape of Model {i+1}')\n",
        "  plt.show()\n",
        "  plt.savefig(f'output_shape_model{i+1}.png')"
      ],
      "execution_count": null,
      "outputs": []
    },
    {
      "cell_type": "code",
      "metadata": {
        "id": "zltrsbiAaQ4Z"
      },
      "source": [
        "outputs = np.array(outputs)\n",
        "np.savetxt('outputs.csv', outputs, delimiter = ';')"
      ],
      "execution_count": null,
      "outputs": []
    },
    {
      "cell_type": "code",
      "metadata": {
        "id": "eoT_9WPSbCO0"
      },
      "source": [
        "outputs = np.loadtxt('outputs.csv', delimiter = ';')"
      ],
      "execution_count": null,
      "outputs": []
    },
    {
      "cell_type": "code",
      "metadata": {
        "id": "T4TU8ZEbwDlh"
      },
      "source": [
        "i = 0"
      ],
      "execution_count": null,
      "outputs": []
    },
    {
      "cell_type": "code",
      "metadata": {
        "colab": {
          "base_uri": "https://localhost:8080/"
        },
        "id": "a4gwv5rCxAg9",
        "outputId": "5f09dad3-0c17-4637-d11f-78879ae8bdf8"
      },
      "source": [
        "print(levy_stable.ppf(x_val[i][0],alpha,beta,mu,c))\n",
        "print(f'Previsto: {levy_stable.ppf(model5.predict(np.array([x_val[i]]))[0,0],alpha,beta,mu,c):.4f}')\n",
        "print(f'Média: {levy_stable.ppf(np.mean(x_val[i][0]),alpha,beta,mu,c):.4f}')\n",
        "print(f'Real: {levy_stable.ppf(y_val[i][0],alpha,beta,mu,c):.4f}')\n",
        "i+=10"
      ],
      "execution_count": null,
      "outputs": [
        {
          "output_type": "stream",
          "text": [
            "[-0.00193026 -0.00949093  0.01740295  0.00658103  0.00527588  0.01254998\n",
            " -0.00500109 -0.01451887 -0.00190971 -0.0055363 ]\n",
            "Previsto: 0.0017\n",
            "Média: 0.0004\n",
            "Real: 0.0140\n"
          ],
          "name": "stdout"
        }
      ]
    },
    {
      "cell_type": "code",
      "metadata": {
        "colab": {
          "base_uri": "https://localhost:8080/"
        },
        "id": "ZawSha3YYGb2",
        "outputId": "88edacb5-2b3d-43b4-b0b1-0947ea7bb304"
      },
      "source": [
        "print(np.std(test_data))\n",
        "print(c)"
      ],
      "execution_count": null,
      "outputs": [
        {
          "output_type": "stream",
          "text": [
            "0.01650811859374638\n",
            "0.008261207967671467\n"
          ],
          "name": "stdout"
        }
      ]
    },
    {
      "cell_type": "code",
      "metadata": {
        "colab": {
          "base_uri": "https://localhost:8080/"
        },
        "id": "ZqEGFfS_aQw8",
        "outputId": "aed6ec8e-79b0-463f-fd48-a389500c4046"
      },
      "source": [
        "np.mean([abs(levy_stable.ppf(model5.predict(np.array([x_val[i]]))[0,0],alpha,beta,mu,c) - levy_stable.ppf(y_val[i][0],alpha,beta,mu,c)) for i in range(1000)])"
      ],
      "execution_count": null,
      "outputs": [
        {
          "output_type": "execute_result",
          "data": {
            "text/plain": [
              "0.009763134716452949"
            ]
          },
          "metadata": {
            "tags": []
          },
          "execution_count": 88
        }
      ]
    },
    {
      "cell_type": "markdown",
      "metadata": {
        "id": "cczeH24geis-"
      },
      "source": [
        "### Trying to predict growth or decrease instead of next value"
      ]
    },
    {
      "cell_type": "code",
      "metadata": {
        "id": "_hfZJ_kCeIae"
      },
      "source": [
        "zero = levy_stable.cdf(0,alpha, beta, mu, c)\n",
        "x_bool_train = 0.5+0.5*np.sign(x_train-zero)\n",
        "x_bool_val = 0.5+0.5*np.sign(x_val-zero)\n",
        "y_bool_train = 0.5+0.5*np.sign(y_train-zero)\n",
        "#y_bool_train = np.array([([[1,0]],[[0,1]])[round(i[0])] for i in y_bool_train])\n",
        "y_bool_val = 0.5+0.5*np.sign(y_val-zero)\n",
        "#y_bool_val = np.array([([[1,0]],[[0,1]])[round(i[0])] for i in y_bool_val])"
      ],
      "execution_count": null,
      "outputs": []
    },
    {
      "cell_type": "code",
      "metadata": {
        "id": "H2aUsKfllFEE"
      },
      "source": [
        "x_bool_train = x_bool_train[:,0]\n",
        "x_bool_val = x_bool_val[:,0]\n",
        "y_bool_train = y_bool_train[:,0]\n",
        "y_bool_val = y_bool_val[:,0]"
      ],
      "execution_count": null,
      "outputs": []
    },
    {
      "cell_type": "code",
      "metadata": {
        "colab": {
          "base_uri": "https://localhost:8080/"
        },
        "id": "7WGKLuMofGMr",
        "outputId": "c53b2936-511c-43ef-eed4-cd61f2d9ff67"
      },
      "source": [
        "model_bool = Sequential([\n",
        "        Dense(input_length, activation = 'sigmoid', input_shape = (1,input_length)),\n",
        "        Dense(250,activation = 'sigmoid'),\n",
        "        Dense(500,activation = 'sigmoid'),\n",
        "        Dense(125,activation = 'sigmoid'),\n",
        "        Dense(25,activation = 'sigmoid'),\n",
        "        Dense(1,activation = 'sigmoid')\n",
        "])\n",
        "\n",
        "model_bool.compile(optimizer='adam', loss='binary_crossentropy', metrics = ['accuracy'])\n",
        "model_bool.summary()"
      ],
      "execution_count": null,
      "outputs": [
        {
          "output_type": "stream",
          "text": [
            "Model: \"sequential_4\"\n",
            "_________________________________________________________________\n",
            "Layer (type)                 Output Shape              Param #   \n",
            "=================================================================\n",
            "dense_8 (Dense)              (None, 1, 100)            10100     \n",
            "_________________________________________________________________\n",
            "dense_9 (Dense)              (None, 1, 250)            25250     \n",
            "_________________________________________________________________\n",
            "dense_10 (Dense)             (None, 1, 500)            125500    \n",
            "_________________________________________________________________\n",
            "dense_11 (Dense)             (None, 1, 125)            62625     \n",
            "_________________________________________________________________\n",
            "dense_12 (Dense)             (None, 1, 25)             3150      \n",
            "_________________________________________________________________\n",
            "dense_13 (Dense)             (None, 1, 1)              26        \n",
            "=================================================================\n",
            "Total params: 226,651\n",
            "Trainable params: 226,651\n",
            "Non-trainable params: 0\n",
            "_________________________________________________________________\n"
          ],
          "name": "stdout"
        }
      ]
    },
    {
      "cell_type": "code",
      "metadata": {
        "colab": {
          "base_uri": "https://localhost:8080/"
        },
        "id": "3dil5e2eftCb",
        "outputId": "0020a92d-6de7-4f34-a95f-ae49e39cdbf1"
      },
      "source": [
        "history_bool = model_bool.fit(x_train, y_bool_train, epochs = 30, batch_size=32, validation_data=(x_val, y_bool_val))"
      ],
      "execution_count": null,
      "outputs": [
        {
          "output_type": "stream",
          "text": [
            "Epoch 1/30\n",
            "9549/9549 [==============================] - 49s 5ms/step - loss: 0.6918 - accuracy: 0.5236 - val_loss: 0.6917 - val_accuracy: 0.5232\n",
            "Epoch 2/30\n",
            "9549/9549 [==============================] - 50s 5ms/step - loss: 0.6919 - accuracy: 0.5237 - val_loss: 0.6920 - val_accuracy: 0.5232\n",
            "Epoch 3/30\n",
            "9549/9549 [==============================] - 50s 5ms/step - loss: 0.6919 - accuracy: 0.5237 - val_loss: 0.6918 - val_accuracy: 0.5232\n",
            "Epoch 4/30\n",
            "9549/9549 [==============================] - 50s 5ms/step - loss: 0.6918 - accuracy: 0.5237 - val_loss: 0.6918 - val_accuracy: 0.5232\n",
            "Epoch 5/30\n",
            "9549/9549 [==============================] - 50s 5ms/step - loss: 0.6919 - accuracy: 0.5237 - val_loss: 0.6922 - val_accuracy: 0.5232\n",
            "Epoch 6/30\n",
            "9549/9549 [==============================] - 51s 5ms/step - loss: 0.6919 - accuracy: 0.5237 - val_loss: 0.6917 - val_accuracy: 0.5232\n",
            "Epoch 7/30\n",
            "9549/9549 [==============================] - 50s 5ms/step - loss: 0.6919 - accuracy: 0.5237 - val_loss: 0.6918 - val_accuracy: 0.5232\n",
            "Epoch 8/30\n",
            "9549/9549 [==============================] - 50s 5ms/step - loss: 0.6918 - accuracy: 0.5237 - val_loss: 0.6919 - val_accuracy: 0.5232\n",
            "Epoch 9/30\n",
            "9549/9549 [==============================] - 51s 5ms/step - loss: 0.6919 - accuracy: 0.5237 - val_loss: 0.6917 - val_accuracy: 0.5232\n",
            "Epoch 10/30\n",
            "9549/9549 [==============================] - 49s 5ms/step - loss: 0.6919 - accuracy: 0.5237 - val_loss: 0.6919 - val_accuracy: 0.5232\n",
            "Epoch 11/30\n",
            "9549/9549 [==============================] - 50s 5ms/step - loss: 0.6919 - accuracy: 0.5237 - val_loss: 0.6919 - val_accuracy: 0.5232\n",
            "Epoch 12/30\n",
            "9549/9549 [==============================] - 50s 5ms/step - loss: 0.6918 - accuracy: 0.5237 - val_loss: 0.6917 - val_accuracy: 0.5232\n",
            "Epoch 13/30\n",
            "9549/9549 [==============================] - 49s 5ms/step - loss: 0.6918 - accuracy: 0.5237 - val_loss: 0.6920 - val_accuracy: 0.5232\n",
            "Epoch 14/30\n",
            "9549/9549 [==============================] - 49s 5ms/step - loss: 0.6918 - accuracy: 0.5237 - val_loss: 0.6919 - val_accuracy: 0.5232\n",
            "Epoch 15/30\n",
            "9549/9549 [==============================] - 50s 5ms/step - loss: 0.6918 - accuracy: 0.5237 - val_loss: 0.6921 - val_accuracy: 0.5232\n",
            "Epoch 16/30\n",
            "9549/9549 [==============================] - 49s 5ms/step - loss: 0.6918 - accuracy: 0.5237 - val_loss: 0.6918 - val_accuracy: 0.5232\n",
            "Epoch 17/30\n",
            "9549/9549 [==============================] - 50s 5ms/step - loss: 0.6918 - accuracy: 0.5236 - val_loss: 0.6924 - val_accuracy: 0.5232\n",
            "Epoch 18/30\n",
            "9549/9549 [==============================] - 49s 5ms/step - loss: 0.6919 - accuracy: 0.5237 - val_loss: 0.6917 - val_accuracy: 0.5232\n",
            "Epoch 19/30\n",
            "9549/9549 [==============================] - 50s 5ms/step - loss: 0.6919 - accuracy: 0.5237 - val_loss: 0.6918 - val_accuracy: 0.5232\n",
            "Epoch 20/30\n",
            "9549/9549 [==============================] - 50s 5ms/step - loss: 0.6918 - accuracy: 0.5236 - val_loss: 0.6917 - val_accuracy: 0.5232\n",
            "Epoch 21/30\n",
            "9549/9549 [==============================] - 51s 5ms/step - loss: 0.6918 - accuracy: 0.5235 - val_loss: 0.6922 - val_accuracy: 0.5232\n",
            "Epoch 22/30\n",
            "9549/9549 [==============================] - 50s 5ms/step - loss: 0.6918 - accuracy: 0.5237 - val_loss: 0.6917 - val_accuracy: 0.5232\n",
            "Epoch 23/30\n",
            "9549/9549 [==============================] - 50s 5ms/step - loss: 0.6919 - accuracy: 0.5237 - val_loss: 0.6919 - val_accuracy: 0.5232\n",
            "Epoch 24/30\n",
            "9549/9549 [==============================] - 50s 5ms/step - loss: 0.6919 - accuracy: 0.5237 - val_loss: 0.6917 - val_accuracy: 0.5232\n",
            "Epoch 25/30\n",
            "9549/9549 [==============================] - 50s 5ms/step - loss: 0.6919 - accuracy: 0.5237 - val_loss: 0.6920 - val_accuracy: 0.5232\n",
            "Epoch 26/30\n",
            "9549/9549 [==============================] - 50s 5ms/step - loss: 0.6919 - accuracy: 0.5237 - val_loss: 0.6917 - val_accuracy: 0.5232\n",
            "Epoch 27/30\n",
            "9549/9549 [==============================] - 51s 5ms/step - loss: 0.6919 - accuracy: 0.5237 - val_loss: 0.6917 - val_accuracy: 0.5232\n",
            "Epoch 28/30\n",
            "9549/9549 [==============================] - 51s 5ms/step - loss: 0.6919 - accuracy: 0.5237 - val_loss: 0.6918 - val_accuracy: 0.5232\n",
            "Epoch 29/30\n",
            "9549/9549 [==============================] - 50s 5ms/step - loss: 0.6919 - accuracy: 0.5237 - val_loss: 0.6917 - val_accuracy: 0.5232\n",
            "Epoch 30/30\n",
            "9549/9549 [==============================] - 50s 5ms/step - loss: 0.6919 - accuracy: 0.5237 - val_loss: 0.6918 - val_accuracy: 0.5232\n"
          ],
          "name": "stdout"
        }
      ]
    },
    {
      "cell_type": "code",
      "metadata": {
        "id": "mZQhlbHUrrbr"
      },
      "source": [
        "i=0"
      ],
      "execution_count": null,
      "outputs": []
    },
    {
      "cell_type": "code",
      "metadata": {
        "id": "1mTZT5nYrfU4"
      },
      "source": [
        "print(levy_stable.ppf(x_val[i][0],alpha,beta,mu,c))\n",
        "print(f'Previsto: {model_bool.predict(np.array([x_val[i]])).flatten()}')\n",
        "print(f'Real: {y_bool_val[i][0]}')\n",
        "i+=10"
      ],
      "execution_count": null,
      "outputs": []
    },
    {
      "cell_type": "code",
      "metadata": {
        "colab": {
          "base_uri": "https://localhost:8080/"
        },
        "id": "xCevwMXXhFbe",
        "outputId": "7a940a1b-837c-42e5-b18d-f16f5d108c99"
      },
      "source": [
        "0.5226\n",
        "0.5226\n",
        "0.5226"
      ],
      "execution_count": null,
      "outputs": [
        {
          "output_type": "execute_result",
          "data": {
            "text/plain": [
              "0.5226"
            ]
          },
          "metadata": {
            "tags": []
          },
          "execution_count": 90
        }
      ]
    },
    {
      "cell_type": "markdown",
      "metadata": {
        "id": "RhxF1Tsb2fWo"
      },
      "source": [
        "Cubic Spline"
      ]
    },
    {
      "cell_type": "code",
      "metadata": {
        "id": "L56PzfUYslbL"
      },
      "source": [
        "from scipy.interpolate import NearestNDInterpolator"
      ],
      "execution_count": null,
      "outputs": []
    },
    {
      "cell_type": "code",
      "metadata": {
        "colab": {
          "base_uri": "https://localhost:8080/"
        },
        "id": "aibfZFeoCApI",
        "outputId": "2e13815a-c002-4398-f872-505abafd9889"
      },
      "source": [
        "input_length = 10\n",
        "train_partitions = partition_data(train_data, input_length + 1)\n",
        "test_partitions = partition_data(test_data, input_length + 1)\n",
        "x_train, y_train = in_and_out(train_partitions)\n",
        "x_val, y_val = in_and_out(test_partitions)\n",
        "print(f'Number of training examples: {len(x_train)}')"
      ],
      "execution_count": null,
      "outputs": [
        {
          "output_type": "stream",
          "text": [
            "Number of training examples: 335972\n"
          ],
          "name": "stdout"
        }
      ]
    },
    {
      "cell_type": "code",
      "metadata": {
        "id": "D7c-ZQ8g2kIh"
      },
      "source": [
        "x_train = np.array([i[0] for i in x_train])\n",
        "y_train = np.array([i[0] for i in y_train])"
      ],
      "execution_count": null,
      "outputs": []
    },
    {
      "cell_type": "code",
      "metadata": {
        "colab": {
          "base_uri": "https://localhost:8080/"
        },
        "id": "-oCmkTXH23f8",
        "outputId": "079026e3-bf9d-4c73-f1ca-ccfd14f521e0"
      },
      "source": [
        "x_val[0]"
      ],
      "execution_count": null,
      "outputs": [
        {
          "output_type": "execute_result",
          "data": {
            "text/plain": [
              "array([[-0.01891536, -0.01570065,  0.01318485,  0.02953445, -0.00736373,\n",
              "        -0.01189613, -0.01406005, -0.01246695, -0.02724937,  0.00629432]])"
            ]
          },
          "metadata": {
            "tags": []
          },
          "execution_count": 10
        }
      ]
    },
    {
      "cell_type": "code",
      "metadata": {
        "id": "GjGuVjgk6gSM"
      },
      "source": [
        "h = NearestNDInterpolator(x_train, y_train)"
      ],
      "execution_count": null,
      "outputs": []
    },
    {
      "cell_type": "code",
      "metadata": {
        "id": "6DtDiV9f7KTL",
        "colab": {
          "base_uri": "https://localhost:8080/"
        },
        "outputId": "94450d34-b36d-487a-cf56-a9022a301261"
      },
      "source": [
        "print(x_val[i,0])\n",
        "print(f'Previsto: {h(x_val[i,0])[0]:.5f}')\n",
        "print(f'Real: {y_val[i, 0]:.5f}')\n",
        "print(f'Média: {np.mean(x_val[i][0]):.5f}')\n",
        "i+=10"
      ],
      "execution_count": null,
      "outputs": [
        {
          "output_type": "stream",
          "text": [
            "[ 0.00175031 -0.03250623 -0.00413891  0.01747223  0.00811764 -0.0055734\n",
            "  0.01086546 -0.02648538  0.00437793  0.01225749]\n",
            "Previsto: -0.00251\n",
            "Real: 0.01411\n",
            "Média: -0.00139\n"
          ],
          "name": "stdout"
        }
      ]
    },
    {
      "cell_type": "code",
      "metadata": {
        "id": "Vaf3BGvI9glp",
        "colab": {
          "base_uri": "https://localhost:8080/"
        },
        "outputId": "c1d80945-ef8a-4fd0-95e3-121bc533a8a4"
      },
      "source": [
        "diff = []\n",
        "for i in range(len(x_val)):\n",
        "  if i%10000 == 0:\n",
        "    print(i, end = ' ')\n",
        "  diff.append(abs(y_val[i,0] - h(x_val[i,0])[0]))\n",
        "print('\\nmae: ', np.mean(diff))"
      ],
      "execution_count": null,
      "outputs": [
        {
          "output_type": "stream",
          "text": [
            "0 10000 20000 30000 40000 50000 60000 70000 80000 90000 100000 110000 120000 130000 140000 150000 160000 170000 180000 190000 200000 210000 220000 230000 \n",
            "mae:  0.014644428583011881\n"
          ],
          "name": "stdout"
        }
      ]
    },
    {
      "cell_type": "markdown",
      "metadata": {
        "id": "obBHCkEGlZGt"
      },
      "source": [
        "By bit"
      ]
    },
    {
      "cell_type": "code",
      "metadata": {
        "id": "C5HdVfwsljAu"
      },
      "source": [
        "def n_lista(lista):\n",
        "  return sum([[0, 2**i][int(lista[::-1][i])] for i in range(len(lista))])\n",
        "\n",
        "contagens = {k: np.array([0,0]) for k in range(1024)}\n",
        "for i in range(len(x_bool_train)):\n",
        "  contagens[n_lista(x_bool_train[i])] += np.array([[1,0],[0,1]])[int(y_bool_train[i])]\n",
        "for i in range(1024):\n",
        "  contagens[i] = list(contagens[i]/np.sum(contagens[i]))"
      ],
      "execution_count": null,
      "outputs": []
    },
    {
      "cell_type": "code",
      "metadata": {
        "id": "LJgnRwOXEEzA",
        "colab": {
          "base_uri": "https://localhost:8080/",
          "height": 282
        },
        "outputId": "1526d7f2-43ec-43fa-f16e-9420cbc69a35"
      },
      "source": [
        "probabilities = np.array(list(contagens.values())).flatten()\n",
        "plt.hist(probabilities, bins = round(np.sqrt(len(probabilities))), density = True)\n",
        "\n",
        "from scipy.stats import norm\n",
        "mu, s = norm.fit(probabilities)\n",
        "\n",
        "x1,x2,y1,y2 = plt.axis()\n",
        "plt.plot(np.linspace(x1,x2,500),norm.pdf(np.linspace(x1,x2,500),mu,s))"
      ],
      "execution_count": null,
      "outputs": [
        {
          "output_type": "execute_result",
          "data": {
            "text/plain": [
              "[<matplotlib.lines.Line2D at 0x7f9183257cd0>]"
            ]
          },
          "metadata": {
            "tags": []
          },
          "execution_count": 73
        },
        {
          "output_type": "display_data",
          "data": {
            "image/png": "[encoded data removed]",
            "text/plain": [
              "<Figure size 432x288 with 1 Axes>"
            ]
          },
          "metadata": {
            "tags": [],
            "needs_background": "light"
          }
        }
      ]
    },
    {
      "cell_type": "code",
      "metadata": {
        "colab": {
          "base_uri": "https://localhost:8080/"
        },
        "id": "kfuI7aXBvrml",
        "outputId": "e36312b4-a21d-4bd1-f063-c9e2298d2877"
      },
      "source": [
        "probabilities > ctrl"
      ],
      "execution_count": null,
      "outputs": [
        {
          "output_type": "execute_result",
          "data": {
            "text/plain": [
              "array([False, False, False, ..., False, False, False])"
            ]
          },
          "metadata": {
            "tags": []
          },
          "execution_count": 94
        }
      ]
    },
    {
      "cell_type": "code",
      "metadata": {
        "id": "EY2FKM-xx3U0"
      },
      "source": [
        "ctrl = 2.33441*s+mu"
      ],
      "execution_count": null,
      "outputs": []
    },
    {
      "cell_type": "code",
      "metadata": {
        "colab": {
          "base_uri": "https://localhost:8080/"
        },
        "id": "NcmsyM7k3S9i",
        "outputId": "fddfd74a-5e9d-49e7-cc0f-2ce1b3168361"
      },
      "source": [
        "norm.sf(ctrl,mu,s)*2"
      ],
      "execution_count": null,
      "outputs": [
        {
          "output_type": "execute_result",
          "data": {
            "text/plain": [
              "0.01957426366661974"
            ]
          },
          "metadata": {
            "tags": []
          },
          "execution_count": 97
        }
      ]
    },
    {
      "cell_type": "markdown",
      "metadata": {
        "id": "1Y8bJKgPhciJ"
      },
      "source": [
        "# Input de 3 valores"
      ]
    },
    {
      "cell_type": "code",
      "metadata": {
        "id": "8KqZHF4y3e6Q",
        "colab": {
          "base_uri": "https://localhost:8080/"
        },
        "outputId": "f06c28d4-45d3-4a91-fb93-ff9e8b96f30a"
      },
      "source": [
        "model_3in = Sequential([\n",
        "        Dense(3, input_shape = (1,input_length), activation = 'sigmoid'),\n",
        "        Dense(1000, activation = 'sigmoid'),\n",
        "        Dense(1000, activation = 'sigmoid'),\n",
        "        LSTM(1),\n",
        "        Dense(1, activation = 'sigmoid')\n",
        "])\n",
        "\n",
        "model_3in.compile(optimizer='adam', loss='mse', metrics = ['mae'])\n",
        "model_3in.summary()"
      ],
      "execution_count": null,
      "outputs": [
        {
          "output_type": "stream",
          "text": [
            "Model: \"sequential_18\"\n",
            "_________________________________________________________________\n",
            "Layer (type)                 Output Shape              Param #   \n",
            "=================================================================\n",
            "dense_87 (Dense)             (None, 1, 3)              12        \n",
            "_________________________________________________________________\n",
            "dense_88 (Dense)             (None, 1, 1000)           4000      \n",
            "_________________________________________________________________\n",
            "dense_89 (Dense)             (None, 1, 1000)           1001000   \n",
            "_________________________________________________________________\n",
            "lstm_17 (LSTM)               (None, 1)                 4008      \n",
            "_________________________________________________________________\n",
            "dense_90 (Dense)             (None, 1)                 2         \n",
            "=================================================================\n",
            "Total params: 1,009,022\n",
            "Trainable params: 1,009,022\n",
            "Non-trainable params: 0\n",
            "_________________________________________________________________\n"
          ],
          "name": "stdout"
        }
      ]
    },
    {
      "cell_type": "code",
      "metadata": {
        "id": "IxDF21xKhxri"
      },
      "source": [
        "n_epochs = 40\n",
        "history_3in = model_3in.fit(x_train, y_train, epochs = n_epochs, batch_size=8, validation_data=(x_val, y_val))"
      ],
      "execution_count": null,
      "outputs": []
    },
    {
      "cell_type": "code",
      "metadata": {
        "colab": {
          "base_uri": "https://localhost:8080/"
        },
        "id": "jGfWfaMMiqzd",
        "outputId": "2216d89e-f898-42b4-877e-039ea4f0f1e5"
      },
      "source": [
        "x_train[1]"
      ],
      "execution_count": null,
      "outputs": [
        {
          "output_type": "execute_result",
          "data": {
            "text/plain": [
              "array([[0.07899396, 0.66650813]])"
            ]
          },
          "metadata": {
            "tags": []
          },
          "execution_count": 54
        }
      ]
    },
    {
      "cell_type": "markdown",
      "metadata": {
        "id": "0SukJLz35coy"
      },
      "source": [
        "# 5 inputs"
      ]
    },
    {
      "cell_type": "code",
      "metadata": {
        "id": "PfzvnkGE3fCC"
      },
      "source": [
        "from scipy.interpolate import NearestNDInterpolator\n",
        "from scipy.stats import gaussian_kde as kde\n",
        "import tensorflow_probability as tfp"
      ],
      "execution_count": null,
      "outputs": []
    },
    {
      "cell_type": "code",
      "metadata": {
        "id": "uOg7jZZV5nNC"
      },
      "source": [
        "model_5in = NearestNDInterpolator(x_train[:,0],y_train)"
      ],
      "execution_count": null,
      "outputs": []
    },
    {
      "cell_type": "code",
      "metadata": {
        "id": "J45xLQPj8GIq"
      },
      "source": [
        "points = np.array([list(x_train[i,0])+[y_train[i,0]] for i in range(len(y_train[:,0]))])"
      ],
      "execution_count": null,
      "outputs": []
    },
    {
      "cell_type": "code",
      "metadata": {
        "id": "-N68Reqr9q1b"
      },
      "source": [
        "#kde5 = kde(points)"
      ],
      "execution_count": null,
      "outputs": []
    },
    {
      "cell_type": "markdown",
      "metadata": {
        "id": "Bma8QxVcAyaS"
      },
      "source": [
        "Com TensorFlow"
      ]
    },
    {
      "cell_type": "code",
      "metadata": {
        "id": "EH5fNOUA9vkE"
      },
      "source": [],
      "execution_count": null,
      "outputs": []
    }
  ]
}